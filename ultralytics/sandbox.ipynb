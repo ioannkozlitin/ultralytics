{
 "cells": [
  {
   "cell_type": "code",
   "execution_count": 8,
   "metadata": {},
   "outputs": [],
   "source": [
    "import xml.etree.ElementTree as ET\n",
    "tree = ET.parse(\"/home/neuron-2/DJI_2024_08_22_13_47_53.avi/annotations.xml\")\n",
    "root = tree.getroot()\n",
    "\n",
    "for track_node in root.iter('track'):\n",
    "    for ann_polygon in track_node.iter('box'):\n",
    "        x1=float(ann_polygon.attrib[\"xtl\"])\n",
    "        y1=float(ann_polygon.attrib[\"ytl\"])\n",
    "        x2=float(ann_polygon.attrib[\"xbr\"])\n",
    "        y2=float(ann_polygon.attrib[\"ybr\"])\n",
    "        ann_polygon.set(\"xtl\", str(x1 * 0.5))\n",
    "        ann_polygon.set(\"ytl\", str(y1 * 0.5))\n",
    "        ann_polygon.set(\"xbr\", str(x2 * 0.5))\n",
    "        ann_polygon.set(\"ybr\", str(y2 * 0.5))\n",
    "        #print(x1,y1,x2,y2)\n",
    "\n",
    "tree.write('/home/neuron-2/DJI_2024_08_22_13_47_53.avi/annotations_new.xml')\n"
   ]
  },
  {
   "cell_type": "code",
   "execution_count": 9,
   "metadata": {},
   "outputs": [
    {
     "name": "stdout",
     "output_type": "stream",
     "text": [
      "5\n"
     ]
    }
   ],
   "source": [
    "def inc(x):\n",
    "    x += 1\n",
    "\n",
    "x = 5\n",
    "inc(x)\n",
    "print(x)\n"
   ]
  },
  {
   "cell_type": "code",
   "execution_count": 10,
   "metadata": {},
   "outputs": [],
   "source": [
    "from pathlib import Path\n",
    "import yaml\n",
    "\n",
    "root = Path(\"/home/neuron-2/Видео/prepare\")\n",
    "videolist = {\"videofiles\":[\"{VideoArchive}/\"+str(item.relative_to(root)) for item in root.glob('**/*.mp4') if \"_screen\" not in str(item)]}\n",
    "\n",
    "with open(root / \"list.yaml\", \"wt\") as f:\n",
    "    yaml.dump(videolist, f, encoding='utf8', allow_unicode=True)\n"
   ]
  }
 ],
 "metadata": {
  "kernelspec": {
   "display_name": "Python 3",
   "language": "python",
   "name": "python3"
  },
  "language_info": {
   "codemirror_mode": {
    "name": "ipython",
    "version": 3
   },
   "file_extension": ".py",
   "mimetype": "text/x-python",
   "name": "python",
   "nbconvert_exporter": "python",
   "pygments_lexer": "ipython3",
   "version": "3.10.13"
  }
 },
 "nbformat": 4,
 "nbformat_minor": 2
}
